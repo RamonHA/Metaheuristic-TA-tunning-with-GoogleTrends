{
 "cells": [
  {
   "cell_type": "markdown",
   "metadata": {},
   "source": [
    "Los resultados de este notebook nos demuestran como incluyendo ciertas metricas de feature selection, los resultados que podemos obtener, al menos con RF son iguales.\n",
    "\n",
    "La razon que le atribuimos a esto es que RF tiene la capacidad para discriminar aquellas features que tienen menos capacidades predictivas, escogiendo aquellas mejores, por lo que , aunque pudiera ser una excelente manera para disminuir tiempo, ahora el tiempo del FS pudira complementar este ahorro."
   ]
  },
  {
   "cell_type": "code",
   "execution_count": 55,
   "metadata": {},
   "outputs": [],
   "source": [
    "import pandas as pd\n",
    "import json\n",
    "from copy import copy"
   ]
  },
  {
   "cell_type": "code",
   "execution_count": 33,
   "metadata": {},
   "outputs": [
    {
     "data": {
      "text/plain": [
       "dict_keys(['AAL', 'AAPL', 'AAXJ', 'ABBV', 'ABT', 'AC', 'ACCELSAB', 'ACTINVRB', 'ACWI', 'AEROMEX', 'AGUA', 'ALEATIC', 'ALFAA', 'ALPEKA', 'ALSEA', 'AMD', 'AMXL', 'AMZN', 'ANB', 'ARA', 'ARISTOSA', 'ASURB', 'AUTLANB', 'AXP', 'AXTELCPO', 'AZTECACPO', 'BA', 'BABAN', 'BAC', 'BACHOCOB'])"
      ]
     },
     "execution_count": 33,
     "metadata": {},
     "output_type": "execute_result"
    }
   ],
   "source": [
    "with open(\"results.json\" , \"r\") as fp:\n",
    "    data = json.load( fp )\n",
    "\n",
    "data.keys()"
   ]
  },
  {
   "cell_type": "code",
   "execution_count": 34,
   "metadata": {},
   "outputs": [],
   "source": [
    "methods = {}\n",
    "\n",
    "for asset, v in data.items():\n",
    "    \n",
    "    for method, k in v[\"features\"].items():\n",
    "        \n",
    "        if len(k) == 0: continue\n",
    "\n",
    "        df = pd.DataFrame().from_dict( eval(k) )\n",
    "\n",
    "        if method not in methods: \n",
    "            methods[ method ] = df\n",
    "        else:\n",
    "\n",
    "            methods[method] += df"
   ]
  },
  {
   "cell_type": "code",
   "execution_count": 35,
   "metadata": {},
   "outputs": [
    {
     "name": "stderr",
     "output_type": "stream",
     "text": [
      "C:\\Users\\ramon\\Trading\\VirtualEnv\\lib\\site-packages\\pandas\\core\\frame.py:5039: SettingWithCopyWarning: \n",
      "A value is trying to be set on a copy of a slice from a DataFrame\n",
      "\n",
      "See the caveats in the documentation: https://pandas.pydata.org/pandas-docs/stable/user_guide/indexing.html#returning-a-view-versus-a-copy\n",
      "  return super().rename(\n"
     ]
    },
    {
     "data": {
      "text/html": [
       "<div>\n",
       "<style scoped>\n",
       "    .dataframe tbody tr th:only-of-type {\n",
       "        vertical-align: middle;\n",
       "    }\n",
       "\n",
       "    .dataframe tbody tr th {\n",
       "        vertical-align: top;\n",
       "    }\n",
       "\n",
       "    .dataframe thead th {\n",
       "        text-align: right;\n",
       "    }\n",
       "</style>\n",
       "<table border=\"1\" class=\"dataframe\">\n",
       "  <thead>\n",
       "    <tr style=\"text-align: right;\">\n",
       "      <th></th>\n",
       "      <th>causality</th>\n",
       "      <th>corr</th>\n",
       "      <th>mFCBF</th>\n",
       "    </tr>\n",
       "  </thead>\n",
       "  <tbody>\n",
       "    <tr>\n",
       "      <th>reservas internacionales_1</th>\n",
       "      <td>0.0</td>\n",
       "      <td>0.0</td>\n",
       "      <td>2.0</td>\n",
       "    </tr>\n",
       "    <tr>\n",
       "      <th>s&amp;p500_2</th>\n",
       "      <td>0.0</td>\n",
       "      <td>0.0</td>\n",
       "      <td>2.0</td>\n",
       "    </tr>\n",
       "    <tr>\n",
       "      <th>s&amp;p500_4</th>\n",
       "      <td>0.0</td>\n",
       "      <td>0.0</td>\n",
       "      <td>4.0</td>\n",
       "    </tr>\n",
       "    <tr>\n",
       "      <th>wma_3_1</th>\n",
       "      <td>1.0</td>\n",
       "      <td>13.0</td>\n",
       "      <td>6.0</td>\n",
       "    </tr>\n",
       "    <tr>\n",
       "      <th>dema1</th>\n",
       "      <td>1.0</td>\n",
       "      <td>0.0</td>\n",
       "      <td>3.0</td>\n",
       "    </tr>\n",
       "    <tr>\n",
       "      <th>...</th>\n",
       "      <td>...</td>\n",
       "      <td>...</td>\n",
       "      <td>...</td>\n",
       "    </tr>\n",
       "    <tr>\n",
       "      <th>stoch_10</th>\n",
       "      <td>1.0</td>\n",
       "      <td>1.0</td>\n",
       "      <td>13.0</td>\n",
       "    </tr>\n",
       "    <tr>\n",
       "      <th>wma_6_4</th>\n",
       "      <td>0.0</td>\n",
       "      <td>0.0</td>\n",
       "      <td>11.0</td>\n",
       "    </tr>\n",
       "    <tr>\n",
       "      <th>ema_3_3</th>\n",
       "      <td>0.0</td>\n",
       "      <td>1.0</td>\n",
       "      <td>12.0</td>\n",
       "    </tr>\n",
       "    <tr>\n",
       "      <th>bb_20</th>\n",
       "      <td>1.0</td>\n",
       "      <td>0.0</td>\n",
       "      <td>2.0</td>\n",
       "    </tr>\n",
       "    <tr>\n",
       "      <th>aal_2</th>\n",
       "      <td>NaN</td>\n",
       "      <td>NaN</td>\n",
       "      <td>NaN</td>\n",
       "    </tr>\n",
       "  </tbody>\n",
       "</table>\n",
       "<p>268 rows × 3 columns</p>\n",
       "</div>"
      ],
      "text/plain": [
       "                            causality  corr  mFCBF\n",
       "reservas internacionales_1        0.0   0.0    2.0\n",
       "s&p500_2                          0.0   0.0    2.0\n",
       "s&p500_4                          0.0   0.0    4.0\n",
       "wma_3_1                           1.0  13.0    6.0\n",
       "dema1                             1.0   0.0    3.0\n",
       "...                               ...   ...    ...\n",
       "stoch_10                          1.0   1.0   13.0\n",
       "wma_6_4                           0.0   0.0   11.0\n",
       "ema_3_3                           0.0   1.0   12.0\n",
       "bb_20                             1.0   0.0    2.0\n",
       "aal_2                             NaN   NaN    NaN\n",
       "\n",
       "[268 rows x 3 columns]"
      ]
     },
     "execution_count": 35,
     "metadata": {},
     "output_type": "execute_result"
    }
   ],
   "source": [
    "target1 = pd.DataFrame()\n",
    "for m, df in methods.items():\n",
    "\n",
    "    if len(target1) == 0: target1 = df[[\"target_1\"]]\n",
    "    else: \n",
    "        target1 = pd.concat([ target1, df[[\"target_1\"]] ], axis = 1)\n",
    "    \n",
    "    target1.rename(columns = {\"target_1\": m}, inplace = True)\n",
    "\n",
    "target1"
   ]
  },
  {
   "cell_type": "code",
   "execution_count": 53,
   "metadata": {},
   "outputs": [
    {
     "data": {
      "text/plain": [
       "ema_6_1        24.0\n",
       "close_2        20.0\n",
       "wma_3_1        20.0\n",
       "dema_12_1      20.0\n",
       "adj close_2    20.0\n",
       "high_1         19.0\n",
       "wma_6_1        18.0\n",
       "dema_6_1       18.0\n",
       "sma_3_1        17.0\n",
       "cci_7          17.0\n",
       "dema_3_2       17.0\n",
       "stoch_6        16.0\n",
       "wma_3_2        15.0\n",
       "vpt            15.0\n",
       "ema_3_1        15.0\n",
       "adj close_3    15.0\n",
       "cci_10         15.0\n",
       "william_15     15.0\n",
       "cci_4          15.0\n",
       "stoch_12       15.0\n",
       "dtype: float64"
      ]
     },
     "execution_count": 53,
     "metadata": {},
     "output_type": "execute_result"
    }
   ],
   "source": [
    "target1.sum(axis = 1).sort_values(ascending=False).head(20)"
   ]
  },
  {
   "cell_type": "code",
   "execution_count": 59,
   "metadata": {},
   "outputs": [
    {
     "data": {
      "text/plain": [
       "ema_6_1           25.0\n",
       "wma_3_1           21.0\n",
       "dema_12_1         21.0\n",
       "close_2           20.0\n",
       "cci_7             20.0\n",
       "adj close_2       20.0\n",
       "dema_6_1          19.0\n",
       "high_1            19.0\n",
       "wma_6_1           18.0\n",
       "dema_3_2          18.0\n",
       "sma_3_1           18.0\n",
       "vpt               17.0\n",
       "stoch_6           17.0\n",
       "stoch_10          16.0\n",
       "stoch_12          16.0\n",
       "ema_3_1           16.0\n",
       "william_15        16.0\n",
       "cci_10            16.0\n",
       "ema_3_2           16.0\n",
       "wma_3_2           16.0\n",
       "adj close_3       15.0\n",
       "force_index_10    15.0\n",
       "adj close_1       15.0\n",
       "rsi_4             15.0\n",
       "cci_4             15.0\n",
       "dtype: float64"
      ]
     },
     "execution_count": 59,
     "metadata": {},
     "output_type": "execute_result"
    }
   ],
   "source": [
    "targets = target1.copy()\n",
    "targets[\"causality\"] *= 2\n",
    "targets.sum(axis = 1).sort_values(ascending=False).head(25)"
   ]
  },
  {
   "cell_type": "code",
   "execution_count": null,
   "metadata": {},
   "outputs": [],
   "source": []
  },
  {
   "cell_type": "code",
   "execution_count": 5,
   "metadata": {},
   "outputs": [
    {
     "data": {
      "text/plain": [
       "array(['volume_3', 'william_15', 'tsi_10', 'vpt', 'desempleo_1',\n",
       "       'volume_2', 'materiales', 'cetes', 'salud', 'materiales_1',\n",
       "       'pib_1', 'consumo no basico_3', 'consumo no basico_4', 'desempleo',\n",
       "       'volume_4', 'adj close_1', 'rsi_21', 'stoch_10', 'pib', 'rsi_14',\n",
       "       'consumo frecuente_3', 'pib_4', 'consumo frecuente_4', 'volume',\n",
       "       'mexbol_4', 'cetes_1', 'volume_5', 'adx_14'], dtype=object)"
      ]
     },
     "execution_count": 5,
     "metadata": {},
     "output_type": "execute_result"
    }
   ],
   "source": [
    "df[ df[ c ] > 0 ].index.values"
   ]
  },
  {
   "cell_type": "code",
   "execution_count": 6,
   "metadata": {},
   "outputs": [],
   "source": [
    "targets = {}\n",
    "\n",
    "for asset, v in data.items():\n",
    "    \n",
    "    for target, k in v[\"regr\"].items():\n",
    "\n",
    "        for regr, j in k.items():\n",
    "\n",
    "            if len(j) == 0: continue\n",
    "\n",
    "            df = pd.DataFrame().from_dict(j) \n",
    "            df.set_index(\"param\", inplace = True)\n",
    "            df.rename( columns = {\"error\":asset}, inplace = True )\n",
    "\n",
    "            if target not in targets: \n",
    "                targets[ target ] = df\n",
    "                continue\n",
    "\n",
    "            targets[ target ][asset] = df[asset].values\n"
   ]
  },
  {
   "cell_type": "code",
   "execution_count": 7,
   "metadata": {},
   "outputs": [],
   "source": [
    "for t in targets:\n",
    "    targets[t] = pd.DataFrame(targets[t].mean(axis = 1))\n",
    "    targets[t].sort_values(by = 0, ascending = True)"
   ]
  },
  {
   "cell_type": "code",
   "execution_count": 8,
   "metadata": {},
   "outputs": [
    {
     "data": {
      "text/html": [
       "<div>\n",
       "<style scoped>\n",
       "    .dataframe tbody tr th:only-of-type {\n",
       "        vertical-align: middle;\n",
       "    }\n",
       "\n",
       "    .dataframe tbody tr th {\n",
       "        vertical-align: top;\n",
       "    }\n",
       "\n",
       "    .dataframe thead th {\n",
       "        text-align: right;\n",
       "    }\n",
       "</style>\n",
       "<table border=\"1\" class=\"dataframe\">\n",
       "  <thead>\n",
       "    <tr style=\"text-align: right;\">\n",
       "      <th></th>\n",
       "      <th>0</th>\n",
       "    </tr>\n",
       "    <tr>\n",
       "      <th>param</th>\n",
       "      <th></th>\n",
       "    </tr>\n",
       "  </thead>\n",
       "  <tbody>\n",
       "    <tr>\n",
       "      <th>{'criterion': 'absolute_error', 'n_estimators': 200}</th>\n",
       "      <td>0.001026</td>\n",
       "    </tr>\n",
       "    <tr>\n",
       "      <th>{'criterion': 'squared_error', 'n_estimators': 200}</th>\n",
       "      <td>0.001102</td>\n",
       "    </tr>\n",
       "    <tr>\n",
       "      <th>{'criterion': 'squared_error', 'n_estimators': 100}</th>\n",
       "      <td>0.001158</td>\n",
       "    </tr>\n",
       "    <tr>\n",
       "      <th>{'criterion': 'absolute_error', 'n_estimators': 100}</th>\n",
       "      <td>0.001178</td>\n",
       "    </tr>\n",
       "    <tr>\n",
       "      <th>{'criterion': 'absolute_error', 'n_estimators': 10}</th>\n",
       "      <td>0.001211</td>\n",
       "    </tr>\n",
       "    <tr>\n",
       "      <th>{'criterion': 'squared_error', 'n_estimators': 20}</th>\n",
       "      <td>0.001245</td>\n",
       "    </tr>\n",
       "    <tr>\n",
       "      <th>{'criterion': 'squared_error', 'n_estimators': 10}</th>\n",
       "      <td>0.001294</td>\n",
       "    </tr>\n",
       "    <tr>\n",
       "      <th>{'criterion': 'squared_error', 'n_estimators': 50}</th>\n",
       "      <td>0.001380</td>\n",
       "    </tr>\n",
       "    <tr>\n",
       "      <th>{'criterion': 'absolute_error', 'n_estimators': 20}</th>\n",
       "      <td>0.001777</td>\n",
       "    </tr>\n",
       "    <tr>\n",
       "      <th>{'criterion': 'absolute_error', 'n_estimators': 50}</th>\n",
       "      <td>0.002024</td>\n",
       "    </tr>\n",
       "  </tbody>\n",
       "</table>\n",
       "</div>"
      ],
      "text/plain": [
       "                                                           0\n",
       "param                                                       \n",
       "{'criterion': 'absolute_error', 'n_estimators':...  0.001026\n",
       "{'criterion': 'squared_error', 'n_estimators': ...  0.001102\n",
       "{'criterion': 'squared_error', 'n_estimators': ...  0.001158\n",
       "{'criterion': 'absolute_error', 'n_estimators':...  0.001178\n",
       "{'criterion': 'absolute_error', 'n_estimators':...  0.001211\n",
       "{'criterion': 'squared_error', 'n_estimators': 20}  0.001245\n",
       "{'criterion': 'squared_error', 'n_estimators': 10}  0.001294\n",
       "{'criterion': 'squared_error', 'n_estimators': 50}  0.001380\n",
       "{'criterion': 'absolute_error', 'n_estimators':...  0.001777\n",
       "{'criterion': 'absolute_error', 'n_estimators':...  0.002024"
      ]
     },
     "execution_count": 8,
     "metadata": {},
     "output_type": "execute_result"
    }
   ],
   "source": [
    "targets[\"target_1\"]"
   ]
  },
  {
   "cell_type": "code",
   "execution_count": 67,
   "metadata": {},
   "outputs": [
    {
     "data": {
      "text/plain": [
       "dict_keys(['AAL', 'AAPL', 'AAXJ', 'ABBV', 'ABT', 'AC', 'ACCELSAB', 'ACTINVRB', 'ACWI', 'AEROMEX'])"
      ]
     },
     "execution_count": 67,
     "metadata": {},
     "output_type": "execute_result"
    }
   ],
   "source": [
    "with open(\"results_normal.json\" , \"r\") as fp:\n",
    "    ndata = json.load( fp )\n",
    "\n",
    "ndata.keys()"
   ]
  },
  {
   "cell_type": "code",
   "execution_count": 73,
   "metadata": {},
   "outputs": [],
   "source": [
    "targets = {}\n",
    "\n",
    "for asset, v in ndata.items():\n",
    "    \n",
    "    for target, k in v[\"regr\"].items():\n",
    "\n",
    "        for regr, j in k.items():\n",
    "\n",
    "            if len(j) == 0: continue\n",
    "\n",
    "            df = pd.DataFrame().from_dict(j) \n",
    "            df.set_index(\"param\", inplace = True)\n",
    "            df.rename( columns = {\"error\":asset}, inplace = True )\n",
    "\n",
    "            if target not in targets: \n",
    "                targets[ target ] = df\n",
    "                continue\n",
    "\n",
    "            targets[ target ][asset] = df[asset].values\n"
   ]
  },
  {
   "cell_type": "code",
   "execution_count": 74,
   "metadata": {},
   "outputs": [],
   "source": [
    "for t in targets:\n",
    "    targets[t] = pd.DataFrame(targets[t].mean(axis = 1))\n",
    "    targets[t].sort_values(by = 0, ascending = True)"
   ]
  },
  {
   "cell_type": "code",
   "execution_count": 75,
   "metadata": {},
   "outputs": [
    {
     "data": {
      "text/html": [
       "<div>\n",
       "<style scoped>\n",
       "    .dataframe tbody tr th:only-of-type {\n",
       "        vertical-align: middle;\n",
       "    }\n",
       "\n",
       "    .dataframe tbody tr th {\n",
       "        vertical-align: top;\n",
       "    }\n",
       "\n",
       "    .dataframe thead th {\n",
       "        text-align: right;\n",
       "    }\n",
       "</style>\n",
       "<table border=\"1\" class=\"dataframe\">\n",
       "  <thead>\n",
       "    <tr style=\"text-align: right;\">\n",
       "      <th></th>\n",
       "      <th>0</th>\n",
       "    </tr>\n",
       "    <tr>\n",
       "      <th>param</th>\n",
       "      <th></th>\n",
       "    </tr>\n",
       "  </thead>\n",
       "  <tbody>\n",
       "    <tr>\n",
       "      <th>{'criterion': 'absolute_error', 'n_estimators': 100}</th>\n",
       "      <td>0.001027</td>\n",
       "    </tr>\n",
       "    <tr>\n",
       "      <th>{'criterion': 'squared_error', 'n_estimators': 100}</th>\n",
       "      <td>0.001036</td>\n",
       "    </tr>\n",
       "    <tr>\n",
       "      <th>{'criterion': 'absolute_error', 'n_estimators': 200}</th>\n",
       "      <td>0.001075</td>\n",
       "    </tr>\n",
       "    <tr>\n",
       "      <th>{'criterion': 'squared_error', 'n_estimators': 200}</th>\n",
       "      <td>0.001120</td>\n",
       "    </tr>\n",
       "    <tr>\n",
       "      <th>{'criterion': 'squared_error', 'n_estimators': 10}</th>\n",
       "      <td>0.001158</td>\n",
       "    </tr>\n",
       "    <tr>\n",
       "      <th>{'criterion': 'absolute_error', 'n_estimators': 50}</th>\n",
       "      <td>0.001197</td>\n",
       "    </tr>\n",
       "    <tr>\n",
       "      <th>{'criterion': 'absolute_error', 'n_estimators': 20}</th>\n",
       "      <td>0.001311</td>\n",
       "    </tr>\n",
       "    <tr>\n",
       "      <th>{'criterion': 'squared_error', 'n_estimators': 50}</th>\n",
       "      <td>0.001403</td>\n",
       "    </tr>\n",
       "    <tr>\n",
       "      <th>{'criterion': 'absolute_error', 'n_estimators': 10}</th>\n",
       "      <td>0.001537</td>\n",
       "    </tr>\n",
       "    <tr>\n",
       "      <th>{'criterion': 'squared_error', 'n_estimators': 20}</th>\n",
       "      <td>0.001786</td>\n",
       "    </tr>\n",
       "  </tbody>\n",
       "</table>\n",
       "</div>"
      ],
      "text/plain": [
       "                                                           0\n",
       "param                                                       \n",
       "{'criterion': 'absolute_error', 'n_estimators':...  0.001027\n",
       "{'criterion': 'squared_error', 'n_estimators': ...  0.001036\n",
       "{'criterion': 'absolute_error', 'n_estimators':...  0.001075\n",
       "{'criterion': 'squared_error', 'n_estimators': ...  0.001120\n",
       "{'criterion': 'squared_error', 'n_estimators': 10}  0.001158\n",
       "{'criterion': 'absolute_error', 'n_estimators':...  0.001197\n",
       "{'criterion': 'absolute_error', 'n_estimators':...  0.001311\n",
       "{'criterion': 'squared_error', 'n_estimators': 50}  0.001403\n",
       "{'criterion': 'absolute_error', 'n_estimators':...  0.001537\n",
       "{'criterion': 'squared_error', 'n_estimators': 20}  0.001786"
      ]
     },
     "execution_count": 75,
     "metadata": {},
     "output_type": "execute_result"
    }
   ],
   "source": [
    "targets[\"target_1\"]\n"
   ]
  },
  {
   "cell_type": "code",
   "execution_count": null,
   "metadata": {},
   "outputs": [],
   "source": []
  }
 ],
 "metadata": {
  "interpreter": {
   "hash": "b3de8c92194f23a191dba71cef0f647abef7af501775491d26afa729b79c76bf"
  },
  "kernelspec": {
   "display_name": "Python 3.9.10 64-bit (windows store)",
   "language": "python",
   "name": "python3"
  },
  "language_info": {
   "codemirror_mode": {
    "name": "ipython",
    "version": 3
   },
   "file_extension": ".py",
   "mimetype": "text/x-python",
   "name": "python",
   "nbconvert_exporter": "python",
   "pygments_lexer": "ipython3",
   "version": "3.9.10"
  },
  "orig_nbformat": 4
 },
 "nbformat": 4,
 "nbformat_minor": 2
}
