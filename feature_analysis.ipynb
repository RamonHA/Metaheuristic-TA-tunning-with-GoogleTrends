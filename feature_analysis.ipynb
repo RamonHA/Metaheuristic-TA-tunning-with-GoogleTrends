{
 "cells": [
  {
   "cell_type": "markdown",
   "metadata": {},
   "source": [
    "# Feature Analysis\n",
    "\n",
    "To test the feature relevance on the prediction model, we consider tests based on the two type of predictions we want to test:\n",
    "\n",
    "1. Regression\n",
    "\n",
    "    1. Models: RandomForest, LSTM\n",
    "\n",
    "\n",
    "2. Classification\n",
    "\n",
    "    1. Models: RandomForest, SVM\n",
    "\n",
    "## Methodology\n",
    "\n",
    "### Hybrid Method\n",
    "\n",
    "The methodology consist of two main steps:\n",
    "\n",
    "1. Feature Filtering\n",
    "\n",
    "    1. Simple correlation\n",
    "\n",
    "    2. Causality\n",
    "\n",
    "    3. Homoskedasticity and Endogeneity \n",
    "\n",
    "    4. mFCBF algorithm (correlation algorithm)\n",
    "\n",
    "2. Model application (regression/classificaion)\n",
    "    \n",
    "    Which will work as our metric system.\n",
    "\n",
    "    The method will GridSearch for the best parameters, and the full distribution of results is used as the evaluation criteria.\n"
   ]
  },
  {
   "cell_type": "code",
   "execution_count": 82,
   "metadata": {},
   "outputs": [],
   "source": [
    "import warnings\n",
    "from functions import *\n",
    "from trading import Asset\n",
    "from datetime import date, datetime\n",
    "from trading.func_aux import get_assets, min_max\n",
    "import json\n",
    "import pandas as pd\n",
    "from copy import deepcopy, copy"
   ]
  },
  {
   "cell_type": "markdown",
   "metadata": {},
   "source": [
    "#### Aux cells"
   ]
  },
  {
   "cell_type": "code",
   "execution_count": null,
   "metadata": {},
   "outputs": [],
   "source": [
    "inst = Asset(\n",
    "    symbol = \"AAPL\",\n",
    "    broker = \"gbm\",\n",
    "    fiat = \"mx\",\n",
    "    start = date(2000,1,1),\n",
    "    end = date(2022,1,1),\n",
    "    frequency = \"1m\",\n",
    "    from_ = \"db\"\n",
    ")"
   ]
  },
  {
   "cell_type": "markdown",
   "metadata": {},
   "source": [
    "## Configuration\n",
    "### Update Google Trends"
   ]
  },
  {
   "cell_type": "code",
   "execution_count": null,
   "metadata": {},
   "outputs": [],
   "source": [
    "gt = {}\n",
    "for i in get_assets()[\"gbm\"]:\n",
    "    aux = i.lower()\n",
    "    gt[i] = {\"google_trends\": [ aux, \"{} price\".format(aux), \"{} stock\".format(aux) ]}\n",
    "\n",
    "with open(\"google_trends_keywords.json\", \"w\") as fp:\n",
    "    json.dump( gt, fp )\n",
    "\n",
    "## add_assets -broker gbm -json google_trends_keywords.json -augment"
   ]
  },
  {
   "cell_type": "markdown",
   "metadata": {},
   "source": [
    "### Update DB with Google Trends"
   ]
  },
  {
   "cell_type": "code",
   "execution_count": null,
   "metadata": {},
   "outputs": [],
   "source": [
    "for i in get_assets()[\"gbm\"]:\n",
    "    print(i)\n",
    "    inst = Asset( i , fiat = \"mx\", broker = \"gbm\", start = date(2000,1,1), end = date(2022,2,1), frequency=\"1m\")\n",
    "    df = inst.google_trends(from_=\"api\")"
   ]
  },
  {
   "cell_type": "markdown",
   "metadata": {},
   "source": [
    "## Auxiliar Functions"
   ]
  },
  {
   "cell_type": "code",
   "execution_count": 2,
   "metadata": {},
   "outputs": [],
   "source": [
    "def features(df, periods = 3):\n",
    "    cols = df.columns\n",
    "    new_cols = []\n",
    "    for c in cols:\n",
    "        for i in range(1, periods+1):\n",
    "            aux = \"{}_{}\".format(c, i)\n",
    "            df[ aux ] = df[ c ].pct_change( periods = i )\n",
    "            new_cols.append( aux )\n",
    "\n",
    "    return df, new_cols"
   ]
  },
  {
   "cell_type": "code",
   "execution_count": 3,
   "metadata": {},
   "outputs": [],
   "source": [
    "def target(df, target = \"close\", periods = 3):\n",
    "    for i in range(1, periods+1):\n",
    "        df[ \"{}_{}\".format(\"target\", i) ] = df[ target ].pct_change(periods=i).shift( -i )\n",
    "    \n",
    "    return df"
   ]
  },
  {
   "cell_type": "code",
   "execution_count": 4,
   "metadata": {},
   "outputs": [],
   "source": [
    "def grid_search(df, params, **kwargs):\n",
    "    m = MyGridSearch(\n",
    "        df,\n",
    "        regr = params[\"regr\"],\n",
    "        parameters=params[\"paremeters\"],\n",
    "        train_test_split= kwargs.get(\"train_test_split\", 0.8),\n",
    "        target = kwargs.get(\"target\", \"target\"),\n",
    "        error = params[\"error\"],\n",
    "        error_ascending=kwargs.get(\"error_ascending\", True)\n",
    "    )\n",
    "\n",
    "    m.test()\n",
    "\n",
    "    return m.cache"
   ]
  },
  {
   "cell_type": "code",
   "execution_count": 5,
   "metadata": {},
   "outputs": [],
   "source": [
    "regr = {\n",
    "    \"rf\":{\n",
    "        \"regr\":RandomForestRegressor(),\n",
    "        \"paremeters\":{\n",
    "            \"n_estimators\":[10, 20, 50, 100, 200],\n",
    "            \"criterion\":[\"squared_error\", \"absolute_error\"]\n",
    "        },\n",
    "        \"error\":mean_squared_error\n",
    "    },\n",
    "\n",
    "    # \"regr_lstm\":{\n",
    "        \n",
    "    # },\n",
    "}\n",
    "\n",
    "clf = {\n",
    "    \"clf_rf\":{\n",
    "        \"regr\":RandomForestClassifier(),\n",
    "        \"paremeters\":{\n",
    "            \"n_estimators\":[10, 20, 50, 100, 200],\n",
    "            \"criterion\":[\"gini\", \"entropy\"]\n",
    "        },\n",
    "        \"error\":precision_score\n",
    "    },\n",
    "\n",
    "    \"clf_svm\":{\n",
    "        \"regr\":SVC(),\n",
    "        \"parameters\":{\n",
    "            \"C\":[0.01, 0.1, 1.0, 10],\n",
    "            \"kernel\":[\"linear\", \"poly\", \"rbf\", \"sigmoid\"],\n",
    "        },\n",
    "        \"error\":precision_score\n",
    "    }\n",
    "}\n"
   ]
  },
  {
   "cell_type": "code",
   "execution_count": 6,
   "metadata": {},
   "outputs": [],
   "source": [
    "def model_regr(inst, target, **kwargs):\n",
    "    best = {}\n",
    "    for i, v in regr.items():\n",
    "\n",
    "        best[i] = grid_search(\n",
    "            inst.df,\n",
    "            v,\n",
    "            target = target,\n",
    "            **kwargs\n",
    "        )\n",
    "    \n",
    "    return best"
   ]
  },
  {
   "cell_type": "code",
   "execution_count": 83,
   "metadata": {},
   "outputs": [],
   "source": [
    "def main(func, targets = 5 , type = \"regr\", feature_relevance = [\"causality\"], **kwargs):\n",
    "\n",
    "    targets = [ \"{}_{}\".format( \"target\", i ) for i in range(1, targets+1) ]\n",
    "\n",
    "    assets = get_assets()[ \"gbm\" ]\n",
    "    results = {}\n",
    "\n",
    "    for i in list(assets.keys())[ :10 ] :\n",
    "        results[i] = {}\n",
    "\n",
    "        inst = Asset(\n",
    "            symbol=i,\n",
    "            broker=\"gbm\",\n",
    "            fiat = \"mx\",\n",
    "            start = date(2000,1,1),\n",
    "            end = date(2022,2,1),\n",
    "            frequency=\"1m\",\n",
    "            from_ = \"db\"\n",
    "        )\n",
    "\n",
    "        inst = func( inst, type = type )\n",
    "\n",
    "        for fr in feature_relevance:\n",
    "\n",
    "            results[i][fr] = {}\n",
    "\n",
    "            for target in targets:\n",
    "                \n",
    "                results[i][fr][target] = {}\n",
    "\n",
    "                inst_aux = deepcopy(inst)\n",
    "\n",
    "                if fr is not None:\n",
    "                    inst_aux, good = {\n",
    "                        \"causality\":causality,\n",
    "                        \"correlation\":correlation,\n",
    "                        \"mFCBF\":mFCBF\n",
    "                    }[fr](inst_aux, copy(targets), target)\n",
    "                else:\n",
    "                    good = True\n",
    "\n",
    "                results[ i ][ fr ][target][\"cols\"] = set( inst_aux.df.columns ) - set([ target ])\n",
    "\n",
    "                if not good:\n",
    "                    warnings.warn(\"Target {} for {} with {} has no attributes\".format( target, i, fr ))\n",
    "                    continue\n",
    "\n",
    "                if type == \"regr\":\n",
    "                    results[i][fr][target][\"regr\"] = model_regr( inst_aux, target=target, **kwargs )\n",
    "                else:\n",
    "                    pass\n",
    "    \n",
    "    return results"
   ]
  },
  {
   "cell_type": "markdown",
   "metadata": {},
   "source": [
    "### Feature Relevance"
   ]
  },
  {
   "cell_type": "code",
   "execution_count": 75,
   "metadata": {},
   "outputs": [],
   "source": [
    "def causality(inst, targets, target):\n",
    "\n",
    "    cols = list(inst.df.columns)\n",
    "   \n",
    "    targets.remove(target)\n",
    "    for i in targets:\n",
    "        cols.remove( i )\n",
    "\n",
    "    lag = int( target.split(\"_\")[-1] )\n",
    "\n",
    "    inst.df.dropna( inplace = True )\n",
    "\n",
    "    cols = inst.causality( df = inst.df[cols], targets = [target],  lag = lag, verbose = 0)\n",
    "\n",
    "    cols = cols[ cols[target] == 1 ].index.tolist()\n",
    "\n",
    "    if len(cols) == 0:\n",
    "        return inst, False\n",
    "\n",
    "    inst.df = inst.df[ cols + [target] ]\n",
    "\n",
    "    return inst, True\n"
   ]
  },
  {
   "cell_type": "code",
   "execution_count": 76,
   "metadata": {},
   "outputs": [],
   "source": [
    "def correlation(inst, targets, target):\n",
    "\n",
    "    cols = list(inst.df.columns)\n",
    "\n",
    "    targets.remove(target)\n",
    "    for i in targets: cols.remove( i )\n",
    "\n",
    "    cols = inst.corr( df = inst.df[ cols ], targets = [target] )\n",
    "\n",
    "    cols = cols[ cols[target] < 0.9 ].index.tolist()\n",
    "\n",
    "    if len(cols) == 0:\n",
    "        return inst, False\n",
    "\n",
    "    inst.df = inst.df[ cols + [target] ]\n",
    "\n",
    "    return inst, True"
   ]
  },
  {
   "cell_type": "code",
   "execution_count": 77,
   "metadata": {},
   "outputs": [],
   "source": [
    "def mFCBF(inst, targets, target):\n",
    "    cols = list(inst.df.columns)\n",
    "\n",
    "    targets.remove(target)\n",
    "    for i in targets: \n",
    "        cols.remove( i )\n",
    "    \n",
    "    cols = inst.df[ cols ].corr()\n",
    "\n",
    "\n",
    "    cols = cols[ cols[target] > 0.2 ].index.tolist()\n",
    "\n",
    "    cols.remove( target )\n",
    "\n",
    "    df = copy(inst.df)\n",
    "\n",
    "    cols = inst.redundancy( df = inst.df[ cols ].corr(), threshold = 0.8, above = False )\n",
    "    \n",
    "    inst.df = df\n",
    "\n",
    "    if len(cols) == 0:\n",
    "        return inst, False\n",
    "\n",
    "    inst.df = inst.df[ cols + [target] ]\n",
    "\n",
    "    return inst, True"
   ]
  },
  {
   "cell_type": "markdown",
   "metadata": {},
   "source": [
    "## Results"
   ]
  },
  {
   "cell_type": "markdown",
   "metadata": {},
   "source": [
    "### Historic Data"
   ]
  },
  {
   "cell_type": "code",
   "execution_count": 78,
   "metadata": {},
   "outputs": [],
   "source": [
    "def func_historic_data(inst, type = \"regr\"):\n",
    "\n",
    "    cols = list(inst.df.columns)\n",
    "\n",
    "    df, new_cols = features( inst.df, periods=5 )\n",
    "\n",
    "    if type == \"clf\":\n",
    "        for c in new_cols:\n",
    "            df[ c ] = df[ c ].apply( lambda x : 1 if x > 0 else 0 )\n",
    "\n",
    "    df = target( df, periods=5 )\n",
    "\n",
    "    cols.remove( \"volume\" )\n",
    "\n",
    "    df.drop(columns= cols, inplace=True )\n",
    "    \n",
    "    inst.df = df\n",
    "\n",
    "    return inst"
   ]
  },
  {
   "cell_type": "code",
   "execution_count": 79,
   "metadata": {},
   "outputs": [
    {
     "name": "stdout",
     "output_type": "stream",
     "text": [
      "Target target_1 for AAL with mFCBF has no attributes\n",
      "Target target_3 for AAL with mFCBF has no attributes\n",
      "Target target_4 for AAL with mFCBF has no attributes\n",
      "Target target_5 for AAL with mFCBF has no attributes\n",
      "Target target_1 for AAPL with mFCBF has no attributes\n",
      "Target target_2 for AAPL with mFCBF has no attributes\n",
      "Target target_3 for AAPL with mFCBF has no attributes\n",
      "Target target_4 for AAPL with mFCBF has no attributes\n",
      "Target target_5 for AAPL with mFCBF has no attributes\n",
      "Target target_2 for AAXJ with mFCBF has no attributes\n",
      "Target target_1 for ABBV with mFCBF has no attributes\n",
      "Target target_2 for ABBV with mFCBF has no attributes\n",
      "Target target_3 for ABBV with mFCBF has no attributes\n",
      "Target target_4 for ABBV with mFCBF has no attributes\n",
      "Target target_5 for ABBV with mFCBF has no attributes\n",
      "Target target_1 for ABT with mFCBF has no attributes\n",
      "Target target_3 for ABT with mFCBF has no attributes\n",
      "Target target_4 for ABT with mFCBF has no attributes\n",
      "Target target_5 for ABT with mFCBF has no attributes\n",
      "Target target_1 for AC with mFCBF has no attributes\n",
      "Target target_2 for AC with mFCBF has no attributes\n",
      "Target target_3 for AC with mFCBF has no attributes\n",
      "Target target_4 for AC with mFCBF has no attributes\n",
      "Target target_5 for AC with mFCBF has no attributes\n",
      "Target target_1 for ACTINVRB with mFCBF has no attributes\n",
      "Target target_2 for ACTINVRB with mFCBF has no attributes\n",
      "Target target_1 for ACWI with mFCBF has no attributes\n",
      "Target target_2 for ACWI with mFCBF has no attributes\n",
      "Target target_1 for AEROMEX with mFCBF has no attributes\n",
      "Target target_2 for AEROMEX with mFCBF has no attributes\n",
      "Target target_5 for AEROMEX with mFCBF has no attributes\n"
     ]
    }
   ],
   "source": [
    "r = main( func = func_historic_data, targets=5, feature_relevance= [ \"mFCBF\", \"causality\", \"correlation\"] )"
   ]
  },
  {
   "cell_type": "markdown",
   "metadata": {},
   "source": [
    "### Google Trends"
   ]
  },
  {
   "cell_type": "code",
   "execution_count": null,
   "metadata": {},
   "outputs": [],
   "source": [
    "def func_google_trends(inst):\n",
    "    df = inst.google_trends( from_ = \"db\" )\n"
   ]
  },
  {
   "cell_type": "code",
   "execution_count": null,
   "metadata": {},
   "outputs": [],
   "source": []
  },
  {
   "cell_type": "markdown",
   "metadata": {},
   "source": [
    "### MacroEconomic Variables Analysis"
   ]
  },
  {
   "cell_type": "code",
   "execution_count": null,
   "metadata": {},
   "outputs": [],
   "source": [
    "def func_mev(inst):\n",
    "    pass"
   ]
  },
  {
   "cell_type": "code",
   "execution_count": null,
   "metadata": {},
   "outputs": [],
   "source": []
  },
  {
   "cell_type": "markdown",
   "metadata": {},
   "source": [
    "### Technical Analysis features"
   ]
  },
  {
   "cell_type": "code",
   "execution_count": null,
   "metadata": {},
   "outputs": [],
   "source": [
    "def func_ta(inst):\n",
    "    pass"
   ]
  },
  {
   "cell_type": "code",
   "execution_count": null,
   "metadata": {},
   "outputs": [],
   "source": []
  },
  {
   "cell_type": "code",
   "execution_count": null,
   "metadata": {},
   "outputs": [],
   "source": []
  },
  {
   "cell_type": "markdown",
   "metadata": {},
   "source": []
  }
 ],
 "metadata": {
  "interpreter": {
   "hash": "b155835adaffb91be0a688c88b88bf7e4b5d6550cd5ce7a6ff0ea2c97eb0bbc9"
  },
  "kernelspec": {
   "display_name": "Python 3.9.9 64-bit ('trading': venv)",
   "language": "python",
   "name": "python3"
  },
  "language_info": {
   "codemirror_mode": {
    "name": "ipython",
    "version": 3
   },
   "file_extension": ".py",
   "mimetype": "text/x-python",
   "name": "python",
   "nbconvert_exporter": "python",
   "pygments_lexer": "ipython3",
   "version": "3.8.9"
  },
  "orig_nbformat": 4
 },
 "nbformat": 4,
 "nbformat_minor": 2
}
